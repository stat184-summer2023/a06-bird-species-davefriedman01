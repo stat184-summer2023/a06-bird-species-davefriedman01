{
 "cells": [
  {
   "attachments": {},
   "cell_type": "markdown",
   "metadata": {},
   "source": [
    "# A06"
   ]
  },
  {
   "attachments": {},
   "cell_type": "markdown",
   "metadata": {},
   "source": [
    "---"
   ]
  },
  {
   "attachments": {},
   "cell_type": "markdown",
   "metadata": {},
   "source": [
    "## Programming Environment"
   ]
  },
  {
   "cell_type": "code",
   "execution_count": 1,
   "metadata": {
    "vscode": {
     "languageId": "r"
    }
   },
   "outputs": [
    {
     "data": {
      "text/html": [
       "'R version 4.3.0 (2023-04-21)'"
      ],
      "text/latex": [
       "'R version 4.3.0 (2023-04-21)'"
      ],
      "text/markdown": [
       "'R version 4.3.0 (2023-04-21)'"
      ],
      "text/plain": [
       "[1] \"R version 4.3.0 (2023-04-21)\""
      ]
     },
     "metadata": {},
     "output_type": "display_data"
    },
    {
     "data": {
      "text/html": [
       "'/Library/Frameworks/R.framework/Versions/4.3-arm64/Resources/library'"
      ],
      "text/latex": [
       "'/Library/Frameworks/R.framework/Versions/4.3-arm64/Resources/library'"
      ],
      "text/markdown": [
       "'/Library/Frameworks/R.framework/Versions/4.3-arm64/Resources/library'"
      ],
      "text/plain": [
       "[1] \"/Library/Frameworks/R.framework/Versions/4.3-arm64/Resources/library\""
      ]
     },
     "metadata": {},
     "output_type": "display_data"
    },
    {
     "name": "stderr",
     "output_type": "stream",
     "text": [
      "── \u001b[1mAttaching core tidyverse packages\u001b[22m ──────────────────────── tidyverse 2.0.0 ──\n",
      "\u001b[32m✔\u001b[39m \u001b[34mdplyr    \u001b[39m 1.1.2     \u001b[32m✔\u001b[39m \u001b[34mreadr    \u001b[39m 2.1.4\n",
      "\u001b[32m✔\u001b[39m \u001b[34mforcats  \u001b[39m 1.0.0     \u001b[32m✔\u001b[39m \u001b[34mstringr  \u001b[39m 1.5.0\n",
      "\u001b[32m✔\u001b[39m \u001b[34mggplot2  \u001b[39m 3.4.2     \u001b[32m✔\u001b[39m \u001b[34mtibble   \u001b[39m 3.2.1\n",
      "\u001b[32m✔\u001b[39m \u001b[34mlubridate\u001b[39m 1.9.2     \u001b[32m✔\u001b[39m \u001b[34mtidyr    \u001b[39m 1.3.0\n",
      "\u001b[32m✔\u001b[39m \u001b[34mpurrr    \u001b[39m 1.0.1     \n",
      "── \u001b[1mConflicts\u001b[22m ────────────────────────────────────────── tidyverse_conflicts() ──\n",
      "\u001b[31m✖\u001b[39m \u001b[34mdplyr\u001b[39m::\u001b[32mfilter()\u001b[39m masks \u001b[34mstats\u001b[39m::filter()\n",
      "\u001b[31m✖\u001b[39m \u001b[34mdplyr\u001b[39m::\u001b[32mlag()\u001b[39m    masks \u001b[34mstats\u001b[39m::lag()\n",
      "\u001b[36mℹ\u001b[39m Use the conflicted package (\u001b[3m\u001b[34m<http://conflicted.r-lib.org/>\u001b[39m\u001b[23m) to force all conflicts to become errors\n"
     ]
    }
   ],
   "source": [
    "R.version.string\n",
    ".libPaths()\n",
    "\n",
    "library(dcData)\n",
    "library(tidyverse)"
   ]
  },
  {
   "attachments": {},
   "cell_type": "markdown",
   "metadata": {},
   "source": [
    "---"
   ]
  },
  {
   "cell_type": "code",
   "execution_count": 10,
   "metadata": {
    "vscode": {
     "languageId": "r"
    }
   },
   "outputs": [
    {
     "name": "stdout",
     "output_type": "stream",
     "text": [
      "OrdwayBirds               package:dcData               R Documentation\n",
      "\n",
      "_\bB_\bi_\br_\bd_\bs _\bc_\ba_\bp_\bt_\bu_\br_\be_\bd _\ba_\bn_\bd _\br_\be_\bl_\be_\ba_\bs_\be_\bd _\ba_\bt _\bO_\br_\bd_\bw_\ba_\by, _\bc_\bo_\bm_\bp_\bl_\be_\bt_\be _\ba_\bn_\bd _\bu_\bn_\bc_\bl_\be_\ba_\bn_\be_\bd\n",
      "\n",
      "_\bD_\be_\bs_\bc_\br_\bi_\bp_\bt_\bi_\bo_\bn:\n",
      "\n",
      "     The historical record of birds captured and released at the\n",
      "     Katharine Ordway Natural History Study Area, a 278-acre preserve\n",
      "     in Inver Grove Heights, Minnesota, owned and managed by Macalester\n",
      "     College.\n",
      "\n",
      "_\bU_\bs_\ba_\bg_\be:\n",
      "\n",
      "     data(\"OrdwayBirds\")\n",
      "     \n",
      "_\bF_\bo_\br_\bm_\ba_\bt:\n",
      "\n",
      "     A data frame with 15,829 observations on the following 26\n",
      "     variables:\n",
      "\n",
      "     bogus\n",
      "\n",
      "     Timestamp indicates when the data were entered into an electronic\n",
      "          record, not anything about the bird being described\n",
      "\n",
      "     Year year of capture\n",
      "\n",
      "     Day day of capture\n",
      "\n",
      "     Month month of capture\n",
      "\n",
      "     CaptureTime time of capture\n",
      "\n",
      "     SpeciesName\n",
      "\n",
      "     Sex\n",
      "\n",
      "     Age\n",
      "\n",
      "     BandNumber\n",
      "\n",
      "     TrapID\n",
      "\n",
      "     Weather\n",
      "\n",
      "     BandingReport\n",
      "\n",
      "     RecaptureYN\n",
      "\n",
      "     RecaptureMonth\n",
      "\n",
      "     RecaptureDay\n",
      "\n",
      "     Condition\n",
      "\n",
      "     Release\n",
      "\n",
      "     Comments\n",
      "\n",
      "     DataEntryPerson\n",
      "\n",
      "     Weight\n",
      "\n",
      "     WingChord\n",
      "\n",
      "     Temperature\n",
      "\n",
      "     RecaptureOriginal\n",
      "\n",
      "     RecapturePrevious\n",
      "\n",
      "     TailLength\n",
      "\n",
      "_\bD_\be_\bt_\ba_\bi_\bl_\bs:\n",
      "\n",
      "     There are many extraneous levels of variables such as species.\n",
      "     Part of the purpose of this data set is to teach about data\n",
      "     cleaning.\n",
      "\n",
      "_\bS_\bo_\bu_\br_\bc_\be:\n",
      "\n",
      "     Jerald Dosch, Dept. of Biology, Macalester College: the manager of\n",
      "     the Study Area.\n",
      "\n",
      "_\bS_\be_\be _\bA_\bl_\bs_\bo:\n",
      "\n",
      "     `OrdwaySpeciesNames`\n",
      "\n",
      "_\bE_\bx_\ba_\bm_\bp_\bl_\be_\bs:\n",
      "\n",
      "     data(OrdwayBirds)\n",
      "     str(OrdwayBirds)\n",
      "     "
     ]
    }
   ],
   "source": [
    "?dcData::OrdwayBirds"
   ]
  },
  {
   "cell_type": "code",
   "execution_count": 3,
   "metadata": {
    "vscode": {
     "languageId": "r"
    }
   },
   "outputs": [
    {
     "name": "stdout",
     "output_type": "stream",
     "text": [
      "OrdwaySpeciesNames           package:dcData            R Documentation\n",
      "\n",
      "_\bC_\bo_\br_\br_\be_\bc_\bt_\be_\bd _\bS_\bp_\be_\bc_\bi_\be_\bs _\bN_\ba_\bm_\be_\bs _\bf_\bo_\br _\bt_\bh_\be _\bO_\br_\bd_\bw_\ba_\by _\bB_\bi_\br_\bd_\bs\n",
      "\n",
      "_\bD_\be_\bs_\bc_\br_\bi_\bp_\bt_\bi_\bo_\bn:\n",
      "\n",
      "     This data frame lists all the species name that appear in\n",
      "     `OrdwayBirds`. In many cases, the species name was mis-spelled in\n",
      "     the original. As a result, many birds are listed as separate\n",
      "     species even though, in reality, they all belong to the same\n",
      "     species. For each potentially mis-spelled species name, this table\n",
      "     gives a standardized name.\n",
      "\n",
      "_\bU_\bs_\ba_\bg_\be:\n",
      "\n",
      "     data(\"OrdwaySpeciesNames\")\n",
      "     \n",
      "_\bF_\bo_\br_\bm_\ba_\bt:\n",
      "\n",
      "     A data frame with 265 observations on the following 2 variables:\n",
      "\n",
      "     SpeciesName The original spelling, or misspelling, of a bird\n",
      "          species.\n",
      "\n",
      "     SpeciesNameCleaned Corrected spelling (or NA if the original was\n",
      "          not identifiable.)\n",
      "\n",
      "_\bS_\bo_\bu_\br_\bc_\be:\n",
      "\n",
      "     Daniel Kaplan and students in a 2013 Data and Computing\n",
      "     Fundamentals class at Macalester College (Saint Paul, MN) read\n",
      "     through original names in `OrdwayBirds` and typed corrected\n",
      "     spelling shown in `SpeciesNameCleaned`.\n",
      "\n",
      "_\bS_\be_\be _\bA_\bl_\bs_\bo:\n",
      "\n",
      "     `OrdwayBirds`\n",
      "\n",
      "_\bE_\bx_\ba_\bm_\bp_\bl_\be_\bs:\n",
      "\n",
      "     data(OrdwaySpeciesNames)\n",
      "     str(OrdwaySpeciesNames)\n",
      "     "
     ]
    }
   ],
   "source": [
    "?dcData::OrdwaySpeciesNames"
   ]
  },
  {
   "cell_type": "code",
   "execution_count": 5,
   "metadata": {
    "vscode": {
     "languageId": "r"
    }
   },
   "outputs": [
    {
     "data": {
      "text/html": [
       "<table class=\"dataframe\">\n",
       "<caption>A data.frame: 6 × 2</caption>\n",
       "<thead>\n",
       "\t<tr><th></th><th scope=col>Month</th><th scope=col>Day</th></tr>\n",
       "\t<tr><th></th><th scope=col>&lt;chr&gt;</th><th scope=col>&lt;chr&gt;</th></tr>\n",
       "</thead>\n",
       "<tbody>\n",
       "\t<tr><th scope=row>3</th><td>7</td><td>16</td></tr>\n",
       "\t<tr><th scope=row>4</th><td> </td><td>  </td></tr>\n",
       "\t<tr><th scope=row>5</th><td>7</td><td>16</td></tr>\n",
       "\t<tr><th scope=row>6</th><td>7</td><td>16</td></tr>\n",
       "\t<tr><th scope=row>7</th><td>7</td><td>16</td></tr>\n",
       "\t<tr><th scope=row>8</th><td>7</td><td>16</td></tr>\n",
       "</tbody>\n",
       "</table>\n"
      ],
      "text/latex": [
       "A data.frame: 6 × 2\n",
       "\\begin{tabular}{r|ll}\n",
       "  & Month & Day\\\\\n",
       "  & <chr> & <chr>\\\\\n",
       "\\hline\n",
       "\t3 & 7 & 16\\\\\n",
       "\t4 &   &   \\\\\n",
       "\t5 & 7 & 16\\\\\n",
       "\t6 & 7 & 16\\\\\n",
       "\t7 & 7 & 16\\\\\n",
       "\t8 & 7 & 16\\\\\n",
       "\\end{tabular}\n"
      ],
      "text/markdown": [
       "\n",
       "A data.frame: 6 × 2\n",
       "\n",
       "| <!--/--> | Month &lt;chr&gt; | Day &lt;chr&gt; |\n",
       "|---|---|---|\n",
       "| 3 | 7 | 16 |\n",
       "| 4 | <!----> | <!----> |\n",
       "| 5 | 7 | 16 |\n",
       "| 6 | 7 | 16 |\n",
       "| 7 | 7 | 16 |\n",
       "| 8 | 7 | 16 |\n",
       "\n"
      ],
      "text/plain": [
       "  Month Day\n",
       "3 7     16 \n",
       "4          \n",
       "5 7     16 \n",
       "6 7     16 \n",
       "7 7     16 \n",
       "8 7     16 "
      ]
     },
     "metadata": {},
     "output_type": "display_data"
    }
   ],
   "source": [
    "OrdwayBirds %>%\n",
    "  select(Month, Day) %>%\n",
    "  head()"
   ]
  },
  {
   "cell_type": "code",
   "execution_count": 11,
   "metadata": {
    "vscode": {
     "languageId": "r"
    }
   },
   "outputs": [
    {
     "data": {
      "text/html": [
       "<table class=\"dataframe\">\n",
       "<caption>A data.frame: 6 × 3</caption>\n",
       "<thead>\n",
       "\t<tr><th></th><th scope=col>SpeciesName</th><th scope=col>Month</th><th scope=col>Day</th></tr>\n",
       "\t<tr><th></th><th scope=col>&lt;chr&gt;</th><th scope=col>&lt;dbl&gt;</th><th scope=col>&lt;dbl&gt;</th></tr>\n",
       "</thead>\n",
       "<tbody>\n",
       "\t<tr><th scope=row>3</th><td>Song Sparrow </td><td> 7</td><td>16</td></tr>\n",
       "\t<tr><th scope=row>4</th><td>             </td><td>NA</td><td>NA</td></tr>\n",
       "\t<tr><th scope=row>5</th><td>Song Sparrow </td><td> 7</td><td>16</td></tr>\n",
       "\t<tr><th scope=row>6</th><td>Field Sparrow</td><td> 7</td><td>16</td></tr>\n",
       "\t<tr><th scope=row>7</th><td>Field Sparrow</td><td> 7</td><td>16</td></tr>\n",
       "\t<tr><th scope=row>8</th><td>Song Sparrow </td><td> 7</td><td>16</td></tr>\n",
       "</tbody>\n",
       "</table>\n"
      ],
      "text/latex": [
       "A data.frame: 6 × 3\n",
       "\\begin{tabular}{r|lll}\n",
       "  & SpeciesName & Month & Day\\\\\n",
       "  & <chr> & <dbl> & <dbl>\\\\\n",
       "\\hline\n",
       "\t3 & Song Sparrow  &  7 & 16\\\\\n",
       "\t4 &               & NA & NA\\\\\n",
       "\t5 & Song Sparrow  &  7 & 16\\\\\n",
       "\t6 & Field Sparrow &  7 & 16\\\\\n",
       "\t7 & Field Sparrow &  7 & 16\\\\\n",
       "\t8 & Song Sparrow  &  7 & 16\\\\\n",
       "\\end{tabular}\n"
      ],
      "text/markdown": [
       "\n",
       "A data.frame: 6 × 3\n",
       "\n",
       "| <!--/--> | SpeciesName &lt;chr&gt; | Month &lt;dbl&gt; | Day &lt;dbl&gt; |\n",
       "|---|---|---|---|\n",
       "| 3 | Song Sparrow  |  7 | 16 |\n",
       "| 4 | <!----> | NA | NA |\n",
       "| 5 | Song Sparrow  |  7 | 16 |\n",
       "| 6 | Field Sparrow |  7 | 16 |\n",
       "| 7 | Field Sparrow |  7 | 16 |\n",
       "| 8 | Song Sparrow  |  7 | 16 |\n",
       "\n"
      ],
      "text/plain": [
       "  SpeciesName   Month Day\n",
       "3 Song Sparrow   7    16 \n",
       "4               NA    NA \n",
       "5 Song Sparrow   7    16 \n",
       "6 Field Sparrow  7    16 \n",
       "7 Field Sparrow  7    16 \n",
       "8 Song Sparrow   7    16 "
      ]
     },
     "metadata": {},
     "output_type": "display_data"
    }
   ],
   "source": [
    "OrdwayBirds <-\n",
    "  OrdwayBirds %>%\n",
    "  select(SpeciesName, Month, Day) %>%\n",
    "  mutate(\n",
    "    Month = as.numeric(as.character(Month)),\n",
    "    Day   = as.numeric(as.character(Day))\n",
    "  )\n",
    "OrdwayBirds %>%\n",
    "  head()"
   ]
  },
  {
   "cell_type": "code",
   "execution_count": 23,
   "metadata": {
    "vscode": {
     "languageId": "r"
    }
   },
   "outputs": [
    {
     "data": {
      "text/html": [
       "<table class=\"dataframe\">\n",
       "<caption>A data.frame: 50 × 2</caption>\n",
       "<thead>\n",
       "\t<tr><th scope=col>SpeciesName</th><th scope=col>SpeciesNameCleaned</th></tr>\n",
       "\t<tr><th scope=col>&lt;chr&gt;</th><th scope=col>&lt;chr&gt;</th></tr>\n",
       "</thead>\n",
       "<tbody>\n",
       "\t<tr><td>                      </td><td>NA</td></tr>\n",
       "\t<tr><td>-lost-                </td><td>NA</td></tr>\n",
       "\t<tr><td>-missing-             </td><td>NA</td></tr>\n",
       "\t<tr><td>[Nothing, just dashes]</td><td>NA</td></tr>\n",
       "\t<tr><td>13:00:00              </td><td>NA</td></tr>\n",
       "\t<tr><td>Bank Swallow          </td><td>NA</td></tr>\n",
       "\t<tr><td>Barn Swallow          </td><td>NA</td></tr>\n",
       "\t<tr><td>Bay-breasted Warbler  </td><td>NA</td></tr>\n",
       "\t<tr><td>Blackpoll Warbler     </td><td>NA</td></tr>\n",
       "\t<tr><td>Blue Jay              </td><td>NA</td></tr>\n",
       "\t<tr><td>Blue-headed Vireo     </td><td>NA</td></tr>\n",
       "\t<tr><td>Blue-winged Warbler   </td><td>NA</td></tr>\n",
       "\t<tr><td>Bluebird              </td><td>NA</td></tr>\n",
       "\t<tr><td>Boreal Chickadee      </td><td>NA</td></tr>\n",
       "\t<tr><td>Brewer's Sparrow      </td><td>NA</td></tr>\n",
       "\t<tr><td>Brown Creeper         </td><td>NA</td></tr>\n",
       "\t<tr><td>Brown Thrasher        </td><td>NA</td></tr>\n",
       "\t<tr><td>Brown Towhee          </td><td>NA</td></tr>\n",
       "\t<tr><td>Cactus Wren           </td><td>NA</td></tr>\n",
       "\t<tr><td>Common Crow           </td><td>NA</td></tr>\n",
       "\t<tr><td>Common Grackle        </td><td>NA</td></tr>\n",
       "\t<tr><td>Common Nighthawk      </td><td>NA</td></tr>\n",
       "\t<tr><td>Common Redpoll        </td><td>NA</td></tr>\n",
       "\t<tr><td>Common Yellowthroat   </td><td>NA</td></tr>\n",
       "\t<tr><td>Connecticut Warbler   </td><td>NA</td></tr>\n",
       "\t<tr><td>Downy Woodpecker      </td><td>NA</td></tr>\n",
       "\t<tr><td>E Bluebird            </td><td>NA</td></tr>\n",
       "\t<tr><td>Eastern Bluebird      </td><td>NA</td></tr>\n",
       "\t<tr><td>Eastern Kingbird      </td><td>NA</td></tr>\n",
       "\t<tr><td>Eastern Meadowlark    </td><td>NA</td></tr>\n",
       "\t<tr><td>Eastern Robin         </td><td>NA</td></tr>\n",
       "\t<tr><td>Flicker               </td><td>NA</td></tr>\n",
       "\t<tr><td>Fox Sparrow           </td><td>NA</td></tr>\n",
       "\t<tr><td>Goldfinch             </td><td>NA</td></tr>\n",
       "\t<tr><td>Grackle               </td><td>NA</td></tr>\n",
       "\t<tr><td>Green Heron           </td><td>NA</td></tr>\n",
       "\t<tr><td>Ground Dove           </td><td>NA</td></tr>\n",
       "\t<tr><td>Hairy Woodpecker      </td><td>NA</td></tr>\n",
       "\t<tr><td>Hermit Thrush         </td><td>NA</td></tr>\n",
       "\t<tr><td>Horned Lark           </td><td>NA</td></tr>\n",
       "\t<tr><td>House Finch           </td><td>NA</td></tr>\n",
       "\t<tr><td>House Sparrow         </td><td>NA</td></tr>\n",
       "\t<tr><td>Inca Dove             </td><td>NA</td></tr>\n",
       "\t<tr><td>Indigo Bunting        </td><td>NA</td></tr>\n",
       "\t<tr><td>Killdeer              </td><td>NA</td></tr>\n",
       "\t<tr><td>Kingbird              </td><td>NA</td></tr>\n",
       "\t<tr><td>Kiskadee F.C.         </td><td>NA</td></tr>\n",
       "\t<tr><td>Magnolia Warbler      </td><td>NA</td></tr>\n",
       "\t<tr><td>Mockingbird           </td><td>NA</td></tr>\n",
       "\t<tr><td>Rough-winged Swallow  </td><td>NA</td></tr>\n",
       "</tbody>\n",
       "</table>\n"
      ],
      "text/latex": [
       "A data.frame: 50 × 2\n",
       "\\begin{tabular}{ll}\n",
       " SpeciesName & SpeciesNameCleaned\\\\\n",
       " <chr> & <chr>\\\\\n",
       "\\hline\n",
       "\t                        & NA\\\\\n",
       "\t -lost-                 & NA\\\\\n",
       "\t -missing-              & NA\\\\\n",
       "\t {[}Nothing, just dashes{]} & NA\\\\\n",
       "\t 13:00:00               & NA\\\\\n",
       "\t Bank Swallow           & NA\\\\\n",
       "\t Barn Swallow           & NA\\\\\n",
       "\t Bay-breasted Warbler   & NA\\\\\n",
       "\t Blackpoll Warbler      & NA\\\\\n",
       "\t Blue Jay               & NA\\\\\n",
       "\t Blue-headed Vireo      & NA\\\\\n",
       "\t Blue-winged Warbler    & NA\\\\\n",
       "\t Bluebird               & NA\\\\\n",
       "\t Boreal Chickadee       & NA\\\\\n",
       "\t Brewer's Sparrow       & NA\\\\\n",
       "\t Brown Creeper          & NA\\\\\n",
       "\t Brown Thrasher         & NA\\\\\n",
       "\t Brown Towhee           & NA\\\\\n",
       "\t Cactus Wren            & NA\\\\\n",
       "\t Common Crow            & NA\\\\\n",
       "\t Common Grackle         & NA\\\\\n",
       "\t Common Nighthawk       & NA\\\\\n",
       "\t Common Redpoll         & NA\\\\\n",
       "\t Common Yellowthroat    & NA\\\\\n",
       "\t Connecticut Warbler    & NA\\\\\n",
       "\t Downy Woodpecker       & NA\\\\\n",
       "\t E Bluebird             & NA\\\\\n",
       "\t Eastern Bluebird       & NA\\\\\n",
       "\t Eastern Kingbird       & NA\\\\\n",
       "\t Eastern Meadowlark     & NA\\\\\n",
       "\t Eastern Robin          & NA\\\\\n",
       "\t Flicker                & NA\\\\\n",
       "\t Fox Sparrow            & NA\\\\\n",
       "\t Goldfinch              & NA\\\\\n",
       "\t Grackle                & NA\\\\\n",
       "\t Green Heron            & NA\\\\\n",
       "\t Ground Dove            & NA\\\\\n",
       "\t Hairy Woodpecker       & NA\\\\\n",
       "\t Hermit Thrush          & NA\\\\\n",
       "\t Horned Lark            & NA\\\\\n",
       "\t House Finch            & NA\\\\\n",
       "\t House Sparrow          & NA\\\\\n",
       "\t Inca Dove              & NA\\\\\n",
       "\t Indigo Bunting         & NA\\\\\n",
       "\t Killdeer               & NA\\\\\n",
       "\t Kingbird               & NA\\\\\n",
       "\t Kiskadee F.C.          & NA\\\\\n",
       "\t Magnolia Warbler       & NA\\\\\n",
       "\t Mockingbird            & NA\\\\\n",
       "\t Rough-winged Swallow   & NA\\\\\n",
       "\\end{tabular}\n"
      ],
      "text/markdown": [
       "\n",
       "A data.frame: 50 × 2\n",
       "\n",
       "| SpeciesName &lt;chr&gt; | SpeciesNameCleaned &lt;chr&gt; |\n",
       "|---|---|\n",
       "| <!----> | NA |\n",
       "| -lost-                 | NA |\n",
       "| -missing-              | NA |\n",
       "| [Nothing, just dashes] | NA |\n",
       "| 13:00:00               | NA |\n",
       "| Bank Swallow           | NA |\n",
       "| Barn Swallow           | NA |\n",
       "| Bay-breasted Warbler   | NA |\n",
       "| Blackpoll Warbler      | NA |\n",
       "| Blue Jay               | NA |\n",
       "| Blue-headed Vireo      | NA |\n",
       "| Blue-winged Warbler    | NA |\n",
       "| Bluebird               | NA |\n",
       "| Boreal Chickadee       | NA |\n",
       "| Brewer's Sparrow       | NA |\n",
       "| Brown Creeper          | NA |\n",
       "| Brown Thrasher         | NA |\n",
       "| Brown Towhee           | NA |\n",
       "| Cactus Wren            | NA |\n",
       "| Common Crow            | NA |\n",
       "| Common Grackle         | NA |\n",
       "| Common Nighthawk       | NA |\n",
       "| Common Redpoll         | NA |\n",
       "| Common Yellowthroat    | NA |\n",
       "| Connecticut Warbler    | NA |\n",
       "| Downy Woodpecker       | NA |\n",
       "| E Bluebird             | NA |\n",
       "| Eastern Bluebird       | NA |\n",
       "| Eastern Kingbird       | NA |\n",
       "| Eastern Meadowlark     | NA |\n",
       "| Eastern Robin          | NA |\n",
       "| Flicker                | NA |\n",
       "| Fox Sparrow            | NA |\n",
       "| Goldfinch              | NA |\n",
       "| Grackle                | NA |\n",
       "| Green Heron            | NA |\n",
       "| Ground Dove            | NA |\n",
       "| Hairy Woodpecker       | NA |\n",
       "| Hermit Thrush          | NA |\n",
       "| Horned Lark            | NA |\n",
       "| House Finch            | NA |\n",
       "| House Sparrow          | NA |\n",
       "| Inca Dove              | NA |\n",
       "| Indigo Bunting         | NA |\n",
       "| Killdeer               | NA |\n",
       "| Kingbird               | NA |\n",
       "| Kiskadee F.C.          | NA |\n",
       "| Magnolia Warbler       | NA |\n",
       "| Mockingbird            | NA |\n",
       "| Rough-winged Swallow   | NA |\n",
       "\n"
      ],
      "text/plain": [
       "   SpeciesName            SpeciesNameCleaned\n",
       "1                         NA                \n",
       "2  -lost-                 NA                \n",
       "3  -missing-              NA                \n",
       "4  [Nothing, just dashes] NA                \n",
       "5  13:00:00               NA                \n",
       "6  Bank Swallow           NA                \n",
       "7  Barn Swallow           NA                \n",
       "8  Bay-breasted Warbler   NA                \n",
       "9  Blackpoll Warbler      NA                \n",
       "10 Blue Jay               NA                \n",
       "11 Blue-headed Vireo      NA                \n",
       "12 Blue-winged Warbler    NA                \n",
       "13 Bluebird               NA                \n",
       "14 Boreal Chickadee       NA                \n",
       "15 Brewer's Sparrow       NA                \n",
       "16 Brown Creeper          NA                \n",
       "17 Brown Thrasher         NA                \n",
       "18 Brown Towhee           NA                \n",
       "19 Cactus Wren            NA                \n",
       "20 Common Crow            NA                \n",
       "21 Common Grackle         NA                \n",
       "22 Common Nighthawk       NA                \n",
       "23 Common Redpoll         NA                \n",
       "24 Common Yellowthroat    NA                \n",
       "25 Connecticut Warbler    NA                \n",
       "26 Downy Woodpecker       NA                \n",
       "27 E Bluebird             NA                \n",
       "28 Eastern Bluebird       NA                \n",
       "29 Eastern Kingbird       NA                \n",
       "30 Eastern Meadowlark     NA                \n",
       "31 Eastern Robin          NA                \n",
       "32 Flicker                NA                \n",
       "33 Fox Sparrow            NA                \n",
       "34 Goldfinch              NA                \n",
       "35 Grackle                NA                \n",
       "36 Green Heron            NA                \n",
       "37 Ground Dove            NA                \n",
       "38 Hairy Woodpecker       NA                \n",
       "39 Hermit Thrush          NA                \n",
       "40 Horned Lark            NA                \n",
       "41 House Finch            NA                \n",
       "42 House Sparrow          NA                \n",
       "43 Inca Dove              NA                \n",
       "44 Indigo Bunting         NA                \n",
       "45 Killdeer               NA                \n",
       "46 Kingbird               NA                \n",
       "47 Kiskadee F.C.          NA                \n",
       "48 Magnolia Warbler       NA                \n",
       "49 Mockingbird            NA                \n",
       "50 Rough-winged Swallow   NA                "
      ]
     },
     "metadata": {},
     "output_type": "display_data"
    }
   ],
   "source": [
    "dcData::OrdwaySpeciesNames %>%\n",
    "  filter(is.na(SpeciesNameCleaned))"
   ]
  },
  {
   "attachments": {},
   "cell_type": "markdown",
   "metadata": {},
   "source": [
    "---"
   ]
  },
  {
   "attachments": {},
   "cell_type": "markdown",
   "metadata": {},
   "source": [
    "Task 1"
   ]
  },
  {
   "attachments": {},
   "cell_type": "markdown",
   "metadata": {},
   "source": [
    "You will find it helpful to use `n_distinct()` a reduction function, which counts the number of unique values in a variable.\n",
    "\n",
    "[1] Including misspellings, how many different species are there in the `OrdwayBirds` data?\n",
    "\n",
    "There are 275 unique values of the variable `SpeciesName`. This reduces to 268 after dropping the following invalid values:\n",
    "* `''`\n",
    "* `'-lost-'`\n",
    "* `'-missing-'`\n",
    "* `'13:00:00'`\n",
    "* `'[Nothing, just dashes]'`\n",
    "* `'lost'`\n",
    "* `'none'`\n",
    "\n",
    "[2] Consider the `OrdwaySpeciesNames` data frame also found in the `dcData` package as well. How many distinct species are there in the `SpeciesNameCleaned` variable in `OrdwaySpeciesNames`?\n",
    "\n",
    "There are 108 unique values of the variable `SpeciesNameCleaned` after accounting for the value `NA`."
   ]
  },
  {
   "cell_type": "code",
   "execution_count": 25,
   "metadata": {
    "vscode": {
     "languageId": "r"
    }
   },
   "outputs": [
    {
     "data": {
      "text/html": [
       "<table class=\"dataframe\">\n",
       "<caption>A data.frame: 275 × 2</caption>\n",
       "<thead>\n",
       "\t<tr><th scope=col>SpeciesName</th><th scope=col>n</th></tr>\n",
       "\t<tr><th scope=col>&lt;chr&gt;</th><th scope=col>&lt;int&gt;</th></tr>\n",
       "</thead>\n",
       "<tbody>\n",
       "\t<tr><td>                       </td><td>   4</td></tr>\n",
       "\t<tr><td>-lost-                 </td><td>   1</td></tr>\n",
       "\t<tr><td>-missing-              </td><td>   1</td></tr>\n",
       "\t<tr><td>13:00:00               </td><td>   1</td></tr>\n",
       "\t<tr><td>Acadian Flycatcher     </td><td>   1</td></tr>\n",
       "\t<tr><td>American Gold Finch    </td><td>  50</td></tr>\n",
       "\t<tr><td>American Goldfinch     </td><td>1153</td></tr>\n",
       "\t<tr><td>American Golf Finch    </td><td>   1</td></tr>\n",
       "\t<tr><td>American Redfinch      </td><td>   1</td></tr>\n",
       "\t<tr><td>American Redstart      </td><td>   3</td></tr>\n",
       "\t<tr><td>American Robin         </td><td>   4</td></tr>\n",
       "\t<tr><td>Arkansas Kingbird      </td><td>   1</td></tr>\n",
       "\t<tr><td>Baltimore Oriole       </td><td> 206</td></tr>\n",
       "\t<tr><td>Bank Swallow           </td><td>  21</td></tr>\n",
       "\t<tr><td>Barn Swallow           </td><td>  23</td></tr>\n",
       "\t<tr><td>Batimore Oriole        </td><td>   1</td></tr>\n",
       "\t<tr><td>Bay-breasted Warbler   </td><td>   2</td></tr>\n",
       "\t<tr><td>Blac-capped Chickadee  </td><td>   1</td></tr>\n",
       "\t<tr><td>Black and White Warbler</td><td>   9</td></tr>\n",
       "\t<tr><td>Black-Capped Chickadee </td><td>  13</td></tr>\n",
       "\t<tr><td>Black-and-white Warbler</td><td>   1</td></tr>\n",
       "\t<tr><td>Black-billed Cookoo    </td><td>   1</td></tr>\n",
       "\t<tr><td>Black-billed Cuckoo    </td><td>  15</td></tr>\n",
       "\t<tr><td>Black-capeed Chickadee </td><td>   1</td></tr>\n",
       "\t<tr><td>Black-capped Chicakdee </td><td>   1</td></tr>\n",
       "\t<tr><td>Black-capped Chickadee </td><td>1110</td></tr>\n",
       "\t<tr><td>Black-capped Chikadee  </td><td>   1</td></tr>\n",
       "\t<tr><td>Black-capped chickadee </td><td> 187</td></tr>\n",
       "\t<tr><td>Black-throat Sparrow   </td><td>  31</td></tr>\n",
       "\t<tr><td>Black-throat-Sparrow   </td><td>   1</td></tr>\n",
       "\t<tr><td>⋮</td><td>⋮</td></tr>\n",
       "\t<tr><td>White-breast Nuthatch    </td><td> 23</td></tr>\n",
       "\t<tr><td>White-breasted Nuthatch  </td><td>236</td></tr>\n",
       "\t<tr><td>White-crown Sparrow      </td><td> 17</td></tr>\n",
       "\t<tr><td>White-crowned Sparrow    </td><td> 78</td></tr>\n",
       "\t<tr><td>White-eyed Vireo         </td><td>  1</td></tr>\n",
       "\t<tr><td>White-thorat Sparrow     </td><td>  1</td></tr>\n",
       "\t<tr><td>White-throat Sparrow     </td><td> 86</td></tr>\n",
       "\t<tr><td>White-throated Sparrow   </td><td>229</td></tr>\n",
       "\t<tr><td>White-winged Junco       </td><td>  2</td></tr>\n",
       "\t<tr><td>Wht-brstd Nuthatch       </td><td>  1</td></tr>\n",
       "\t<tr><td>Wilson Warbler           </td><td>  4</td></tr>\n",
       "\t<tr><td>Wilson's Warbler         </td><td> 22</td></tr>\n",
       "\t<tr><td>Winter Wren              </td><td>  1</td></tr>\n",
       "\t<tr><td>Wood Pewee               </td><td> 37</td></tr>\n",
       "\t<tr><td>Wood Thrush              </td><td>  3</td></tr>\n",
       "\t<tr><td>Woodcock                 </td><td>  1</td></tr>\n",
       "\t<tr><td>Wren                     </td><td>  2</td></tr>\n",
       "\t<tr><td>Yellow Flicker           </td><td>  1</td></tr>\n",
       "\t<tr><td>Yellow Shafted Flicker   </td><td>  4</td></tr>\n",
       "\t<tr><td>Yellow Warbler           </td><td> 19</td></tr>\n",
       "\t<tr><td>Yellow-bellied Flycatcher</td><td>  7</td></tr>\n",
       "\t<tr><td>Yellow-bellied Sapsucker </td><td>  3</td></tr>\n",
       "\t<tr><td>Yellow-shaft Flicker     </td><td>  6</td></tr>\n",
       "\t<tr><td>Yellow-shafted Flicker   </td><td> 34</td></tr>\n",
       "\t<tr><td>Yellow-shafted flicker   </td><td>  6</td></tr>\n",
       "\t<tr><td>Yellow-tailed Oriole     </td><td>  1</td></tr>\n",
       "\t<tr><td>Yellowthroat             </td><td>107</td></tr>\n",
       "\t<tr><td>[Nothing, just dashes]   </td><td>  1</td></tr>\n",
       "\t<tr><td>lost                     </td><td>  1</td></tr>\n",
       "\t<tr><td>none                     </td><td>  2</td></tr>\n",
       "</tbody>\n",
       "</table>\n"
      ],
      "text/latex": [
       "A data.frame: 275 × 2\n",
       "\\begin{tabular}{ll}\n",
       " SpeciesName & n\\\\\n",
       " <chr> & <int>\\\\\n",
       "\\hline\n",
       "\t                         &    4\\\\\n",
       "\t -lost-                  &    1\\\\\n",
       "\t -missing-               &    1\\\\\n",
       "\t 13:00:00                &    1\\\\\n",
       "\t Acadian Flycatcher      &    1\\\\\n",
       "\t American Gold Finch     &   50\\\\\n",
       "\t American Goldfinch      & 1153\\\\\n",
       "\t American Golf Finch     &    1\\\\\n",
       "\t American Redfinch       &    1\\\\\n",
       "\t American Redstart       &    3\\\\\n",
       "\t American Robin          &    4\\\\\n",
       "\t Arkansas Kingbird       &    1\\\\\n",
       "\t Baltimore Oriole        &  206\\\\\n",
       "\t Bank Swallow            &   21\\\\\n",
       "\t Barn Swallow            &   23\\\\\n",
       "\t Batimore Oriole         &    1\\\\\n",
       "\t Bay-breasted Warbler    &    2\\\\\n",
       "\t Blac-capped Chickadee   &    1\\\\\n",
       "\t Black and White Warbler &    9\\\\\n",
       "\t Black-Capped Chickadee  &   13\\\\\n",
       "\t Black-and-white Warbler &    1\\\\\n",
       "\t Black-billed Cookoo     &    1\\\\\n",
       "\t Black-billed Cuckoo     &   15\\\\\n",
       "\t Black-capeed Chickadee  &    1\\\\\n",
       "\t Black-capped Chicakdee  &    1\\\\\n",
       "\t Black-capped Chickadee  & 1110\\\\\n",
       "\t Black-capped Chikadee   &    1\\\\\n",
       "\t Black-capped chickadee  &  187\\\\\n",
       "\t Black-throat Sparrow    &   31\\\\\n",
       "\t Black-throat-Sparrow    &    1\\\\\n",
       "\t ⋮ & ⋮\\\\\n",
       "\t White-breast Nuthatch     &  23\\\\\n",
       "\t White-breasted Nuthatch   & 236\\\\\n",
       "\t White-crown Sparrow       &  17\\\\\n",
       "\t White-crowned Sparrow     &  78\\\\\n",
       "\t White-eyed Vireo          &   1\\\\\n",
       "\t White-thorat Sparrow      &   1\\\\\n",
       "\t White-throat Sparrow      &  86\\\\\n",
       "\t White-throated Sparrow    & 229\\\\\n",
       "\t White-winged Junco        &   2\\\\\n",
       "\t Wht-brstd Nuthatch        &   1\\\\\n",
       "\t Wilson Warbler            &   4\\\\\n",
       "\t Wilson's Warbler          &  22\\\\\n",
       "\t Winter Wren               &   1\\\\\n",
       "\t Wood Pewee                &  37\\\\\n",
       "\t Wood Thrush               &   3\\\\\n",
       "\t Woodcock                  &   1\\\\\n",
       "\t Wren                      &   2\\\\\n",
       "\t Yellow Flicker            &   1\\\\\n",
       "\t Yellow Shafted Flicker    &   4\\\\\n",
       "\t Yellow Warbler            &  19\\\\\n",
       "\t Yellow-bellied Flycatcher &   7\\\\\n",
       "\t Yellow-bellied Sapsucker  &   3\\\\\n",
       "\t Yellow-shaft Flicker      &   6\\\\\n",
       "\t Yellow-shafted Flicker    &  34\\\\\n",
       "\t Yellow-shafted flicker    &   6\\\\\n",
       "\t Yellow-tailed Oriole      &   1\\\\\n",
       "\t Yellowthroat              & 107\\\\\n",
       "\t {[}Nothing, just dashes{]}    &   1\\\\\n",
       "\t lost                      &   1\\\\\n",
       "\t none                      &   2\\\\\n",
       "\\end{tabular}\n"
      ],
      "text/markdown": [
       "\n",
       "A data.frame: 275 × 2\n",
       "\n",
       "| SpeciesName &lt;chr&gt; | n &lt;int&gt; |\n",
       "|---|---|\n",
       "| <!----> |    4 |\n",
       "| -lost-                  |    1 |\n",
       "| -missing-               |    1 |\n",
       "| 13:00:00                |    1 |\n",
       "| Acadian Flycatcher      |    1 |\n",
       "| American Gold Finch     |   50 |\n",
       "| American Goldfinch      | 1153 |\n",
       "| American Golf Finch     |    1 |\n",
       "| American Redfinch       |    1 |\n",
       "| American Redstart       |    3 |\n",
       "| American Robin          |    4 |\n",
       "| Arkansas Kingbird       |    1 |\n",
       "| Baltimore Oriole        |  206 |\n",
       "| Bank Swallow            |   21 |\n",
       "| Barn Swallow            |   23 |\n",
       "| Batimore Oriole         |    1 |\n",
       "| Bay-breasted Warbler    |    2 |\n",
       "| Blac-capped Chickadee   |    1 |\n",
       "| Black and White Warbler |    9 |\n",
       "| Black-Capped Chickadee  |   13 |\n",
       "| Black-and-white Warbler |    1 |\n",
       "| Black-billed Cookoo     |    1 |\n",
       "| Black-billed Cuckoo     |   15 |\n",
       "| Black-capeed Chickadee  |    1 |\n",
       "| Black-capped Chicakdee  |    1 |\n",
       "| Black-capped Chickadee  | 1110 |\n",
       "| Black-capped Chikadee   |    1 |\n",
       "| Black-capped chickadee  |  187 |\n",
       "| Black-throat Sparrow    |   31 |\n",
       "| Black-throat-Sparrow    |    1 |\n",
       "| ⋮ | ⋮ |\n",
       "| White-breast Nuthatch     |  23 |\n",
       "| White-breasted Nuthatch   | 236 |\n",
       "| White-crown Sparrow       |  17 |\n",
       "| White-crowned Sparrow     |  78 |\n",
       "| White-eyed Vireo          |   1 |\n",
       "| White-thorat Sparrow      |   1 |\n",
       "| White-throat Sparrow      |  86 |\n",
       "| White-throated Sparrow    | 229 |\n",
       "| White-winged Junco        |   2 |\n",
       "| Wht-brstd Nuthatch        |   1 |\n",
       "| Wilson Warbler            |   4 |\n",
       "| Wilson's Warbler          |  22 |\n",
       "| Winter Wren               |   1 |\n",
       "| Wood Pewee                |  37 |\n",
       "| Wood Thrush               |   3 |\n",
       "| Woodcock                  |   1 |\n",
       "| Wren                      |   2 |\n",
       "| Yellow Flicker            |   1 |\n",
       "| Yellow Shafted Flicker    |   4 |\n",
       "| Yellow Warbler            |  19 |\n",
       "| Yellow-bellied Flycatcher |   7 |\n",
       "| Yellow-bellied Sapsucker  |   3 |\n",
       "| Yellow-shaft Flicker      |   6 |\n",
       "| Yellow-shafted Flicker    |  34 |\n",
       "| Yellow-shafted flicker    |   6 |\n",
       "| Yellow-tailed Oriole      |   1 |\n",
       "| Yellowthroat              | 107 |\n",
       "| [Nothing, just dashes]    |   1 |\n",
       "| lost                      |   1 |\n",
       "| none                      |   2 |\n",
       "\n"
      ],
      "text/plain": [
       "    SpeciesName               n   \n",
       "1                                4\n",
       "2   -lost-                       1\n",
       "3   -missing-                    1\n",
       "4   13:00:00                     1\n",
       "5   Acadian Flycatcher           1\n",
       "6   American Gold Finch         50\n",
       "7   American Goldfinch        1153\n",
       "8   American Golf Finch          1\n",
       "9   American Redfinch            1\n",
       "10  American Redstart            3\n",
       "11  American Robin               4\n",
       "12  Arkansas Kingbird            1\n",
       "13  Baltimore Oriole           206\n",
       "14  Bank Swallow                21\n",
       "15  Barn Swallow                23\n",
       "16  Batimore Oriole              1\n",
       "17  Bay-breasted Warbler         2\n",
       "18  Blac-capped Chickadee        1\n",
       "19  Black and White Warbler      9\n",
       "20  Black-Capped Chickadee      13\n",
       "21  Black-and-white Warbler      1\n",
       "22  Black-billed Cookoo          1\n",
       "23  Black-billed Cuckoo         15\n",
       "24  Black-capeed Chickadee       1\n",
       "25  Black-capped Chicakdee       1\n",
       "26  Black-capped Chickadee    1110\n",
       "27  Black-capped Chikadee        1\n",
       "28  Black-capped chickadee     187\n",
       "29  Black-throat Sparrow        31\n",
       "30  Black-throat-Sparrow         1\n",
       "⋮   ⋮                         ⋮   \n",
       "246 White-breast Nuthatch      23 \n",
       "247 White-breasted Nuthatch   236 \n",
       "248 White-crown Sparrow        17 \n",
       "249 White-crowned Sparrow      78 \n",
       "250 White-eyed Vireo            1 \n",
       "251 White-thorat Sparrow        1 \n",
       "252 White-throat Sparrow       86 \n",
       "253 White-throated Sparrow    229 \n",
       "254 White-winged Junco          2 \n",
       "255 Wht-brstd Nuthatch          1 \n",
       "256 Wilson Warbler              4 \n",
       "257 Wilson's Warbler           22 \n",
       "258 Winter Wren                 1 \n",
       "259 Wood Pewee                 37 \n",
       "260 Wood Thrush                 3 \n",
       "261 Woodcock                    1 \n",
       "262 Wren                        2 \n",
       "263 Yellow Flicker              1 \n",
       "264 Yellow Shafted Flicker      4 \n",
       "265 Yellow Warbler             19 \n",
       "266 Yellow-bellied Flycatcher   7 \n",
       "267 Yellow-bellied Sapsucker    3 \n",
       "268 Yellow-shaft Flicker        6 \n",
       "269 Yellow-shafted Flicker     34 \n",
       "270 Yellow-shafted flicker      6 \n",
       "271 Yellow-tailed Oriole        1 \n",
       "272 Yellowthroat              107 \n",
       "273 [Nothing, just dashes]      1 \n",
       "274 lost                        1 \n",
       "275 none                        2 "
      ]
     },
     "metadata": {},
     "output_type": "display_data"
    }
   ],
   "source": [
    "OrdwayBirds %>%\n",
    "  count(SpeciesName)"
   ]
  },
  {
   "cell_type": "code",
   "execution_count": 44,
   "metadata": {
    "vscode": {
     "languageId": "r"
    }
   },
   "outputs": [
    {
     "data": {
      "text/html": [
       "275"
      ],
      "text/latex": [
       "275"
      ],
      "text/markdown": [
       "275"
      ],
      "text/plain": [
       "[1] 275"
      ]
     },
     "metadata": {},
     "output_type": "display_data"
    }
   ],
   "source": [
    "OrdwayBirds %>%\n",
    "  select(SpeciesName) %>%\n",
    "    n_distinct()"
   ]
  },
  {
   "cell_type": "code",
   "execution_count": 38,
   "metadata": {
    "vscode": {
     "languageId": "r"
    }
   },
   "outputs": [
    {
     "data": {
      "text/html": [
       "<table class=\"dataframe\">\n",
       "<caption>A data.frame: 109 × 2</caption>\n",
       "<thead>\n",
       "\t<tr><th scope=col>SpeciesNameCleaned</th><th scope=col>n</th></tr>\n",
       "\t<tr><th scope=col>&lt;chr&gt;</th><th scope=col>&lt;int&gt;</th></tr>\n",
       "</thead>\n",
       "<tbody>\n",
       "\t<tr><td>Acadian Flycatcher       </td><td>1</td></tr>\n",
       "\t<tr><td>American Goldfinch       </td><td>3</td></tr>\n",
       "\t<tr><td>American Redfinch        </td><td>1</td></tr>\n",
       "\t<tr><td>American Redstart        </td><td>1</td></tr>\n",
       "\t<tr><td>American Robin           </td><td>1</td></tr>\n",
       "\t<tr><td>Arkansas Kingbird        </td><td>1</td></tr>\n",
       "\t<tr><td>Baltimore Oriole         </td><td>3</td></tr>\n",
       "\t<tr><td>Black and White Warbler  </td><td>2</td></tr>\n",
       "\t<tr><td>Black-billed Cookoo      </td><td>2</td></tr>\n",
       "\t<tr><td>Black-capped Chickadee   </td><td>8</td></tr>\n",
       "\t<tr><td>Black-throat Sparrow     </td><td>2</td></tr>\n",
       "\t<tr><td>Brown-headed Cowbird     </td><td>2</td></tr>\n",
       "\t<tr><td>Cardinal                 </td><td>2</td></tr>\n",
       "\t<tr><td>Carolina Chickadee       </td><td>1</td></tr>\n",
       "\t<tr><td>Catbird                  </td><td>4</td></tr>\n",
       "\t<tr><td>Cedar Waxwing            </td><td>2</td></tr>\n",
       "\t<tr><td>Chestnut-backed Chickadee</td><td>1</td></tr>\n",
       "\t<tr><td>Chestnut-sided Warbler   </td><td>1</td></tr>\n",
       "\t<tr><td>Chickadee                </td><td>2</td></tr>\n",
       "\t<tr><td>Chipping Sparrow         </td><td>4</td></tr>\n",
       "\t<tr><td>Clay-colored Sparrow     </td><td>3</td></tr>\n",
       "\t<tr><td>Cowbird                  </td><td>1</td></tr>\n",
       "\t<tr><td>Curve-billed Thrasher    </td><td>2</td></tr>\n",
       "\t<tr><td>Eastern Phoebe           </td><td>2</td></tr>\n",
       "\t<tr><td>Eastern Wood Pewee       </td><td>2</td></tr>\n",
       "\t<tr><td>Field Sparrow            </td><td>2</td></tr>\n",
       "\t<tr><td>Golden-Crowned Kinglet   </td><td>3</td></tr>\n",
       "\t<tr><td>Gray - cheeked Thrush    </td><td>4</td></tr>\n",
       "\t<tr><td>Great Crested Flycatcher </td><td>3</td></tr>\n",
       "\t<tr><td>Harris's Sparrow         </td><td>3</td></tr>\n",
       "\t<tr><td>⋮</td><td>⋮</td></tr>\n",
       "\t<tr><td>Tennessee Warbler        </td><td> 2</td></tr>\n",
       "\t<tr><td>Traill's Flycatcher      </td><td> 1</td></tr>\n",
       "\t<tr><td>Tree L                   </td><td> 1</td></tr>\n",
       "\t<tr><td>Tree Swallow             </td><td> 4</td></tr>\n",
       "\t<tr><td>Tufted Titmouse          </td><td> 1</td></tr>\n",
       "\t<tr><td>Unknown                  </td><td> 1</td></tr>\n",
       "\t<tr><td>Varied Thrush            </td><td> 1</td></tr>\n",
       "\t<tr><td>Veery                    </td><td> 1</td></tr>\n",
       "\t<tr><td>Vesper Sparrow           </td><td> 1</td></tr>\n",
       "\t<tr><td>Warbling Vireo           </td><td> 1</td></tr>\n",
       "\t<tr><td>White-Crested Sparrow    </td><td> 1</td></tr>\n",
       "\t<tr><td>White-Fronted Dove       </td><td> 1</td></tr>\n",
       "\t<tr><td>White-breasted Nuthatch  </td><td> 5</td></tr>\n",
       "\t<tr><td>White-crowned Sparrow    </td><td> 2</td></tr>\n",
       "\t<tr><td>White-eyed Vireo         </td><td> 1</td></tr>\n",
       "\t<tr><td>White-throat Sparrow     </td><td> 5</td></tr>\n",
       "\t<tr><td>White-winged Junco       </td><td> 1</td></tr>\n",
       "\t<tr><td>Wilson's Warbler         </td><td> 2</td></tr>\n",
       "\t<tr><td>Winter Wren              </td><td> 1</td></tr>\n",
       "\t<tr><td>Wood Pewee               </td><td> 1</td></tr>\n",
       "\t<tr><td>Wood Thrush              </td><td> 1</td></tr>\n",
       "\t<tr><td>Woodcock                 </td><td> 1</td></tr>\n",
       "\t<tr><td>Wren                     </td><td> 1</td></tr>\n",
       "\t<tr><td>Yellow Shafted Flicker   </td><td> 5</td></tr>\n",
       "\t<tr><td>Yellow Warbler           </td><td> 1</td></tr>\n",
       "\t<tr><td>Yellow-bellied Flycatcher</td><td> 1</td></tr>\n",
       "\t<tr><td>Yellow-bellied Sapsucker </td><td> 1</td></tr>\n",
       "\t<tr><td>Yellow-tailed Oriole     </td><td> 1</td></tr>\n",
       "\t<tr><td>Yellowthroat             </td><td> 1</td></tr>\n",
       "\t<tr><td>NA                       </td><td>50</td></tr>\n",
       "</tbody>\n",
       "</table>\n"
      ],
      "text/latex": [
       "A data.frame: 109 × 2\n",
       "\\begin{tabular}{ll}\n",
       " SpeciesNameCleaned & n\\\\\n",
       " <chr> & <int>\\\\\n",
       "\\hline\n",
       "\t Acadian Flycatcher        & 1\\\\\n",
       "\t American Goldfinch        & 3\\\\\n",
       "\t American Redfinch         & 1\\\\\n",
       "\t American Redstart         & 1\\\\\n",
       "\t American Robin            & 1\\\\\n",
       "\t Arkansas Kingbird         & 1\\\\\n",
       "\t Baltimore Oriole          & 3\\\\\n",
       "\t Black and White Warbler   & 2\\\\\n",
       "\t Black-billed Cookoo       & 2\\\\\n",
       "\t Black-capped Chickadee    & 8\\\\\n",
       "\t Black-throat Sparrow      & 2\\\\\n",
       "\t Brown-headed Cowbird      & 2\\\\\n",
       "\t Cardinal                  & 2\\\\\n",
       "\t Carolina Chickadee        & 1\\\\\n",
       "\t Catbird                   & 4\\\\\n",
       "\t Cedar Waxwing             & 2\\\\\n",
       "\t Chestnut-backed Chickadee & 1\\\\\n",
       "\t Chestnut-sided Warbler    & 1\\\\\n",
       "\t Chickadee                 & 2\\\\\n",
       "\t Chipping Sparrow          & 4\\\\\n",
       "\t Clay-colored Sparrow      & 3\\\\\n",
       "\t Cowbird                   & 1\\\\\n",
       "\t Curve-billed Thrasher     & 2\\\\\n",
       "\t Eastern Phoebe            & 2\\\\\n",
       "\t Eastern Wood Pewee        & 2\\\\\n",
       "\t Field Sparrow             & 2\\\\\n",
       "\t Golden-Crowned Kinglet    & 3\\\\\n",
       "\t Gray - cheeked Thrush     & 4\\\\\n",
       "\t Great Crested Flycatcher  & 3\\\\\n",
       "\t Harris's Sparrow          & 3\\\\\n",
       "\t ⋮ & ⋮\\\\\n",
       "\t Tennessee Warbler         &  2\\\\\n",
       "\t Traill's Flycatcher       &  1\\\\\n",
       "\t Tree L                    &  1\\\\\n",
       "\t Tree Swallow              &  4\\\\\n",
       "\t Tufted Titmouse           &  1\\\\\n",
       "\t Unknown                   &  1\\\\\n",
       "\t Varied Thrush             &  1\\\\\n",
       "\t Veery                     &  1\\\\\n",
       "\t Vesper Sparrow            &  1\\\\\n",
       "\t Warbling Vireo            &  1\\\\\n",
       "\t White-Crested Sparrow     &  1\\\\\n",
       "\t White-Fronted Dove        &  1\\\\\n",
       "\t White-breasted Nuthatch   &  5\\\\\n",
       "\t White-crowned Sparrow     &  2\\\\\n",
       "\t White-eyed Vireo          &  1\\\\\n",
       "\t White-throat Sparrow      &  5\\\\\n",
       "\t White-winged Junco        &  1\\\\\n",
       "\t Wilson's Warbler          &  2\\\\\n",
       "\t Winter Wren               &  1\\\\\n",
       "\t Wood Pewee                &  1\\\\\n",
       "\t Wood Thrush               &  1\\\\\n",
       "\t Woodcock                  &  1\\\\\n",
       "\t Wren                      &  1\\\\\n",
       "\t Yellow Shafted Flicker    &  5\\\\\n",
       "\t Yellow Warbler            &  1\\\\\n",
       "\t Yellow-bellied Flycatcher &  1\\\\\n",
       "\t Yellow-bellied Sapsucker  &  1\\\\\n",
       "\t Yellow-tailed Oriole      &  1\\\\\n",
       "\t Yellowthroat              &  1\\\\\n",
       "\t NA                        & 50\\\\\n",
       "\\end{tabular}\n"
      ],
      "text/markdown": [
       "\n",
       "A data.frame: 109 × 2\n",
       "\n",
       "| SpeciesNameCleaned &lt;chr&gt; | n &lt;int&gt; |\n",
       "|---|---|\n",
       "| Acadian Flycatcher        | 1 |\n",
       "| American Goldfinch        | 3 |\n",
       "| American Redfinch         | 1 |\n",
       "| American Redstart         | 1 |\n",
       "| American Robin            | 1 |\n",
       "| Arkansas Kingbird         | 1 |\n",
       "| Baltimore Oriole          | 3 |\n",
       "| Black and White Warbler   | 2 |\n",
       "| Black-billed Cookoo       | 2 |\n",
       "| Black-capped Chickadee    | 8 |\n",
       "| Black-throat Sparrow      | 2 |\n",
       "| Brown-headed Cowbird      | 2 |\n",
       "| Cardinal                  | 2 |\n",
       "| Carolina Chickadee        | 1 |\n",
       "| Catbird                   | 4 |\n",
       "| Cedar Waxwing             | 2 |\n",
       "| Chestnut-backed Chickadee | 1 |\n",
       "| Chestnut-sided Warbler    | 1 |\n",
       "| Chickadee                 | 2 |\n",
       "| Chipping Sparrow          | 4 |\n",
       "| Clay-colored Sparrow      | 3 |\n",
       "| Cowbird                   | 1 |\n",
       "| Curve-billed Thrasher     | 2 |\n",
       "| Eastern Phoebe            | 2 |\n",
       "| Eastern Wood Pewee        | 2 |\n",
       "| Field Sparrow             | 2 |\n",
       "| Golden-Crowned Kinglet    | 3 |\n",
       "| Gray - cheeked Thrush     | 4 |\n",
       "| Great Crested Flycatcher  | 3 |\n",
       "| Harris's Sparrow          | 3 |\n",
       "| ⋮ | ⋮ |\n",
       "| Tennessee Warbler         |  2 |\n",
       "| Traill's Flycatcher       |  1 |\n",
       "| Tree L                    |  1 |\n",
       "| Tree Swallow              |  4 |\n",
       "| Tufted Titmouse           |  1 |\n",
       "| Unknown                   |  1 |\n",
       "| Varied Thrush             |  1 |\n",
       "| Veery                     |  1 |\n",
       "| Vesper Sparrow            |  1 |\n",
       "| Warbling Vireo            |  1 |\n",
       "| White-Crested Sparrow     |  1 |\n",
       "| White-Fronted Dove        |  1 |\n",
       "| White-breasted Nuthatch   |  5 |\n",
       "| White-crowned Sparrow     |  2 |\n",
       "| White-eyed Vireo          |  1 |\n",
       "| White-throat Sparrow      |  5 |\n",
       "| White-winged Junco        |  1 |\n",
       "| Wilson's Warbler          |  2 |\n",
       "| Winter Wren               |  1 |\n",
       "| Wood Pewee                |  1 |\n",
       "| Wood Thrush               |  1 |\n",
       "| Woodcock                  |  1 |\n",
       "| Wren                      |  1 |\n",
       "| Yellow Shafted Flicker    |  5 |\n",
       "| Yellow Warbler            |  1 |\n",
       "| Yellow-bellied Flycatcher |  1 |\n",
       "| Yellow-bellied Sapsucker  |  1 |\n",
       "| Yellow-tailed Oriole      |  1 |\n",
       "| Yellowthroat              |  1 |\n",
       "| NA                        | 50 |\n",
       "\n"
      ],
      "text/plain": [
       "    SpeciesNameCleaned        n \n",
       "1   Acadian Flycatcher        1 \n",
       "2   American Goldfinch        3 \n",
       "3   American Redfinch         1 \n",
       "4   American Redstart         1 \n",
       "5   American Robin            1 \n",
       "6   Arkansas Kingbird         1 \n",
       "7   Baltimore Oriole          3 \n",
       "8   Black and White Warbler   2 \n",
       "9   Black-billed Cookoo       2 \n",
       "10  Black-capped Chickadee    8 \n",
       "11  Black-throat Sparrow      2 \n",
       "12  Brown-headed Cowbird      2 \n",
       "13  Cardinal                  2 \n",
       "14  Carolina Chickadee        1 \n",
       "15  Catbird                   4 \n",
       "16  Cedar Waxwing             2 \n",
       "17  Chestnut-backed Chickadee 1 \n",
       "18  Chestnut-sided Warbler    1 \n",
       "19  Chickadee                 2 \n",
       "20  Chipping Sparrow          4 \n",
       "21  Clay-colored Sparrow      3 \n",
       "22  Cowbird                   1 \n",
       "23  Curve-billed Thrasher     2 \n",
       "24  Eastern Phoebe            2 \n",
       "25  Eastern Wood Pewee        2 \n",
       "26  Field Sparrow             2 \n",
       "27  Golden-Crowned Kinglet    3 \n",
       "28  Gray - cheeked Thrush     4 \n",
       "29  Great Crested Flycatcher  3 \n",
       "30  Harris's Sparrow          3 \n",
       "⋮   ⋮                         ⋮ \n",
       "80  Tennessee Warbler          2\n",
       "81  Traill's Flycatcher        1\n",
       "82  Tree L                     1\n",
       "83  Tree Swallow               4\n",
       "84  Tufted Titmouse            1\n",
       "85  Unknown                    1\n",
       "86  Varied Thrush              1\n",
       "87  Veery                      1\n",
       "88  Vesper Sparrow             1\n",
       "89  Warbling Vireo             1\n",
       "90  White-Crested Sparrow      1\n",
       "91  White-Fronted Dove         1\n",
       "92  White-breasted Nuthatch    5\n",
       "93  White-crowned Sparrow      2\n",
       "94  White-eyed Vireo           1\n",
       "95  White-throat Sparrow       5\n",
       "96  White-winged Junco         1\n",
       "97  Wilson's Warbler           2\n",
       "98  Winter Wren                1\n",
       "99  Wood Pewee                 1\n",
       "100 Wood Thrush                1\n",
       "101 Woodcock                   1\n",
       "102 Wren                       1\n",
       "103 Yellow Shafted Flicker     5\n",
       "104 Yellow Warbler             1\n",
       "105 Yellow-bellied Flycatcher  1\n",
       "106 Yellow-bellied Sapsucker   1\n",
       "107 Yellow-tailed Oriole       1\n",
       "108 Yellowthroat               1\n",
       "109 NA                        50"
      ]
     },
     "metadata": {},
     "output_type": "display_data"
    }
   ],
   "source": [
    "OrdwaySpeciesNames %>%\n",
    "  count(SpeciesNameCleaned)"
   ]
  },
  {
   "cell_type": "code",
   "execution_count": 45,
   "metadata": {
    "vscode": {
     "languageId": "r"
    }
   },
   "outputs": [
    {
     "data": {
      "text/html": [
       "109"
      ],
      "text/latex": [
       "109"
      ],
      "text/markdown": [
       "109"
      ],
      "text/plain": [
       "[1] 109"
      ]
     },
     "metadata": {},
     "output_type": "display_data"
    }
   ],
   "source": [
    "OrdwaySpeciesNames %>%\n",
    "  select(SpeciesNameCleaned) %>%\n",
    "    n_distinct()"
   ]
  },
  {
   "attachments": {},
   "cell_type": "markdown",
   "metadata": {},
   "source": [
    "---"
   ]
  },
  {
   "attachments": {},
   "cell_type": "markdown",
   "metadata": {},
   "source": [
    "Task 2"
   ]
  },
  {
   "attachments": {},
   "cell_type": "markdown",
   "metadata": {},
   "source": [
    "Use the `OrdwaySpeciesNames` table to create a new data frame that corrects the misspellings in `SpeciesNames`. This can be done easily using the `inner_join()` data verb. Look at the names of the variables in `OrdwaySpeciesNames` and `OrdwayBirds`.\n",
    "\n",
    "[1] Which variable(s) was used for matching cases?\n",
    "\n",
    "The variable `SpeciesName` was used for matching cases.\n",
    "\n",
    "[2] What were the variable(s) that will be added?\n",
    "\n",
    "The variables `SpeciesNameCleaned` (renamed to `Species`), `Month`, and `Day` will be added."
   ]
  },
  {
   "cell_type": "code",
   "execution_count": 53,
   "metadata": {
    "vscode": {
     "languageId": "r"
    }
   },
   "outputs": [
    {
     "name": "stderr",
     "output_type": "stream",
     "text": [
      "\u001b[1m\u001b[22mJoining with `by = join_by(SpeciesName)`\n"
     ]
    },
    {
     "name": "stderr",
     "output_type": "stream",
     "text": [
      "Warning message in inner_join(., y = OrdwaySpeciesNames):\n",
      "“\u001b[1m\u001b[22mDetected an unexpected many-to-many relationship between `x` and `y`.\n",
      "\u001b[36mℹ\u001b[39m Row 4 of `x` matches multiple rows in `y`.\n",
      "\u001b[36mℹ\u001b[39m Row 211 of `y` matches multiple rows in `x`.\n",
      "\u001b[36mℹ\u001b[39m If a many-to-many relationship is expected, set `relationship =\n",
      "  \"many-to-many\"` to silence this warning.”\n"
     ]
    },
    {
     "data": {
      "text/html": [
       "<table class=\"dataframe\">\n",
       "<caption>A data.frame: 6 × 3</caption>\n",
       "<thead>\n",
       "\t<tr><th></th><th scope=col>Species</th><th scope=col>Month</th><th scope=col>Day</th></tr>\n",
       "\t<tr><th></th><th scope=col>&lt;chr&gt;</th><th scope=col>&lt;dbl&gt;</th><th scope=col>&lt;dbl&gt;</th></tr>\n",
       "</thead>\n",
       "<tbody>\n",
       "\t<tr><th scope=row>1</th><td>Song Sparrow </td><td>7</td><td>16</td></tr>\n",
       "\t<tr><th scope=row>3</th><td>Song Sparrow </td><td>7</td><td>16</td></tr>\n",
       "\t<tr><th scope=row>4</th><td>Field Sparrow</td><td>7</td><td>16</td></tr>\n",
       "\t<tr><th scope=row>5</th><td>Field Sparrow</td><td>7</td><td>16</td></tr>\n",
       "\t<tr><th scope=row>6</th><td>Field Sparrow</td><td>7</td><td>16</td></tr>\n",
       "\t<tr><th scope=row>7</th><td>Field Sparrow</td><td>7</td><td>16</td></tr>\n",
       "</tbody>\n",
       "</table>\n"
      ],
      "text/latex": [
       "A data.frame: 6 × 3\n",
       "\\begin{tabular}{r|lll}\n",
       "  & Species & Month & Day\\\\\n",
       "  & <chr> & <dbl> & <dbl>\\\\\n",
       "\\hline\n",
       "\t1 & Song Sparrow  & 7 & 16\\\\\n",
       "\t3 & Song Sparrow  & 7 & 16\\\\\n",
       "\t4 & Field Sparrow & 7 & 16\\\\\n",
       "\t5 & Field Sparrow & 7 & 16\\\\\n",
       "\t6 & Field Sparrow & 7 & 16\\\\\n",
       "\t7 & Field Sparrow & 7 & 16\\\\\n",
       "\\end{tabular}\n"
      ],
      "text/markdown": [
       "\n",
       "A data.frame: 6 × 3\n",
       "\n",
       "| <!--/--> | Species &lt;chr&gt; | Month &lt;dbl&gt; | Day &lt;dbl&gt; |\n",
       "|---|---|---|---|\n",
       "| 1 | Song Sparrow  | 7 | 16 |\n",
       "| 3 | Song Sparrow  | 7 | 16 |\n",
       "| 4 | Field Sparrow | 7 | 16 |\n",
       "| 5 | Field Sparrow | 7 | 16 |\n",
       "| 6 | Field Sparrow | 7 | 16 |\n",
       "| 7 | Field Sparrow | 7 | 16 |\n",
       "\n"
      ],
      "text/plain": [
       "  Species       Month Day\n",
       "1 Song Sparrow  7     16 \n",
       "3 Song Sparrow  7     16 \n",
       "4 Field Sparrow 7     16 \n",
       "5 Field Sparrow 7     16 \n",
       "6 Field Sparrow 7     16 \n",
       "7 Field Sparrow 7     16 "
      ]
     },
     "metadata": {},
     "output_type": "display_data"
    }
   ],
   "source": [
    "Corrected <-\n",
    "  OrdwayBirds %>%\n",
    "    inner_join(y = OrdwaySpeciesNames) %>%\n",
    "    select(Species = SpeciesNameCleaned, Month, Day) %>%\n",
    "    na.omit()\n",
    "Corrected %>%\n",
    "  head()"
   ]
  },
  {
   "attachments": {},
   "cell_type": "markdown",
   "metadata": {},
   "source": [
    "---"
   ]
  },
  {
   "attachments": {},
   "cell_type": "markdown",
   "metadata": {},
   "source": [
    "Task 3"
   ]
  },
  {
   "attachments": {},
   "cell_type": "markdown",
   "metadata": {},
   "source": [
    "How many bird captures are reported for each of the corrected species?\n",
    "\n",
    "Major species threshold >= 1000\n",
    "\n",
    "Call the variable that contains the total `count`. Arrange this into descending order from the species with the most birds, and look through the list. (Hint: Remember `n()`. Also, one of the arguments to one of the data verbs will be `desc(count)` to arrange the cases into descending order. Display the top 10 species in terms of the number of bird captures.) Define for yourself a \"major species\" as a species with more than a particular threshold count. Set your threshold so that there are 5 or 6 species designated as major. Filter to produce a data frame with only the birds that belong to a major species. Save the output in a table called `Majors`. (Hint: Remember that summary functions can be used case-by-case when filtering or mutating a data frame that has been grouped.)"
   ]
  },
  {
   "cell_type": "code",
   "execution_count": 64,
   "metadata": {
    "vscode": {
     "languageId": "r"
    }
   },
   "outputs": [
    {
     "data": {
      "text/html": [
       "<table class=\"dataframe\">\n",
       "<caption>A data.frame: 10 × 2</caption>\n",
       "<thead>\n",
       "\t<tr><th></th><th scope=col>Species</th><th scope=col>n</th></tr>\n",
       "\t<tr><th></th><th scope=col>&lt;chr&gt;</th><th scope=col>&lt;int&gt;</th></tr>\n",
       "</thead>\n",
       "<tbody>\n",
       "\t<tr><th scope=row>1</th><td>Slate-colored Junco   </td><td>2732</td></tr>\n",
       "\t<tr><th scope=row>2</th><td>Tree Swallow          </td><td>1537</td></tr>\n",
       "\t<tr><th scope=row>3</th><td>Black-capped Chickadee</td><td>1327</td></tr>\n",
       "\t<tr><th scope=row>4</th><td>American Goldfinch    </td><td>1204</td></tr>\n",
       "\t<tr><th scope=row>5</th><td>Field Sparrow         </td><td>1164</td></tr>\n",
       "\t<tr><th scope=row>6</th><td>Lincoln's Sparrow     </td><td> 790</td></tr>\n",
       "\t<tr><th scope=row>7</th><td>Robin                 </td><td> 608</td></tr>\n",
       "\t<tr><th scope=row>8</th><td>Catbird               </td><td> 554</td></tr>\n",
       "\t<tr><th scope=row>9</th><td>Song Sparrow          </td><td> 512</td></tr>\n",
       "\t<tr><th scope=row>10</th><td>House Wren            </td><td> 460</td></tr>\n",
       "</tbody>\n",
       "</table>\n"
      ],
      "text/latex": [
       "A data.frame: 10 × 2\n",
       "\\begin{tabular}{r|ll}\n",
       "  & Species & n\\\\\n",
       "  & <chr> & <int>\\\\\n",
       "\\hline\n",
       "\t1 & Slate-colored Junco    & 2732\\\\\n",
       "\t2 & Tree Swallow           & 1537\\\\\n",
       "\t3 & Black-capped Chickadee & 1327\\\\\n",
       "\t4 & American Goldfinch     & 1204\\\\\n",
       "\t5 & Field Sparrow          & 1164\\\\\n",
       "\t6 & Lincoln's Sparrow      &  790\\\\\n",
       "\t7 & Robin                  &  608\\\\\n",
       "\t8 & Catbird                &  554\\\\\n",
       "\t9 & Song Sparrow           &  512\\\\\n",
       "\t10 & House Wren             &  460\\\\\n",
       "\\end{tabular}\n"
      ],
      "text/markdown": [
       "\n",
       "A data.frame: 10 × 2\n",
       "\n",
       "| <!--/--> | Species &lt;chr&gt; | n &lt;int&gt; |\n",
       "|---|---|---|\n",
       "| 1 | Slate-colored Junco    | 2732 |\n",
       "| 2 | Tree Swallow           | 1537 |\n",
       "| 3 | Black-capped Chickadee | 1327 |\n",
       "| 4 | American Goldfinch     | 1204 |\n",
       "| 5 | Field Sparrow          | 1164 |\n",
       "| 6 | Lincoln's Sparrow      |  790 |\n",
       "| 7 | Robin                  |  608 |\n",
       "| 8 | Catbird                |  554 |\n",
       "| 9 | Song Sparrow           |  512 |\n",
       "| 10 | House Wren             |  460 |\n",
       "\n"
      ],
      "text/plain": [
       "   Species                n   \n",
       "1  Slate-colored Junco    2732\n",
       "2  Tree Swallow           1537\n",
       "3  Black-capped Chickadee 1327\n",
       "4  American Goldfinch     1204\n",
       "5  Field Sparrow          1164\n",
       "6  Lincoln's Sparrow       790\n",
       "7  Robin                   608\n",
       "8  Catbird                 554\n",
       "9  Song Sparrow            512\n",
       "10 House Wren              460"
      ]
     },
     "metadata": {},
     "output_type": "display_data"
    }
   ],
   "source": [
    "Corrected %>%\n",
    "  count(Species) %>%\n",
    "  arrange(desc(n)) %>%\n",
    "  head(n = 10)"
   ]
  },
  {
   "cell_type": "code",
   "execution_count": 68,
   "metadata": {
    "vscode": {
     "languageId": "r"
    }
   },
   "outputs": [
    {
     "data": {
      "text/html": [
       "<table class=\"dataframe\">\n",
       "<caption>A tibble: 10 × 2</caption>\n",
       "<thead>\n",
       "\t<tr><th scope=col>Species</th><th scope=col>count</th></tr>\n",
       "\t<tr><th scope=col>&lt;chr&gt;</th><th scope=col>&lt;int&gt;</th></tr>\n",
       "</thead>\n",
       "<tbody>\n",
       "\t<tr><td>Slate-colored Junco   </td><td>2732</td></tr>\n",
       "\t<tr><td>Tree Swallow          </td><td>1537</td></tr>\n",
       "\t<tr><td>Black-capped Chickadee</td><td>1327</td></tr>\n",
       "\t<tr><td>American Goldfinch    </td><td>1204</td></tr>\n",
       "\t<tr><td>Field Sparrow         </td><td>1164</td></tr>\n",
       "\t<tr><td>Lincoln's Sparrow     </td><td> 790</td></tr>\n",
       "\t<tr><td>Robin                 </td><td> 608</td></tr>\n",
       "\t<tr><td>Catbird               </td><td> 554</td></tr>\n",
       "\t<tr><td>Song Sparrow          </td><td> 512</td></tr>\n",
       "\t<tr><td>House Wren            </td><td> 460</td></tr>\n",
       "</tbody>\n",
       "</table>\n"
      ],
      "text/latex": [
       "A tibble: 10 × 2\n",
       "\\begin{tabular}{ll}\n",
       " Species & count\\\\\n",
       " <chr> & <int>\\\\\n",
       "\\hline\n",
       "\t Slate-colored Junco    & 2732\\\\\n",
       "\t Tree Swallow           & 1537\\\\\n",
       "\t Black-capped Chickadee & 1327\\\\\n",
       "\t American Goldfinch     & 1204\\\\\n",
       "\t Field Sparrow          & 1164\\\\\n",
       "\t Lincoln's Sparrow      &  790\\\\\n",
       "\t Robin                  &  608\\\\\n",
       "\t Catbird                &  554\\\\\n",
       "\t Song Sparrow           &  512\\\\\n",
       "\t House Wren             &  460\\\\\n",
       "\\end{tabular}\n"
      ],
      "text/markdown": [
       "\n",
       "A tibble: 10 × 2\n",
       "\n",
       "| Species &lt;chr&gt; | count &lt;int&gt; |\n",
       "|---|---|\n",
       "| Slate-colored Junco    | 2732 |\n",
       "| Tree Swallow           | 1537 |\n",
       "| Black-capped Chickadee | 1327 |\n",
       "| American Goldfinch     | 1204 |\n",
       "| Field Sparrow          | 1164 |\n",
       "| Lincoln's Sparrow      |  790 |\n",
       "| Robin                  |  608 |\n",
       "| Catbird                |  554 |\n",
       "| Song Sparrow           |  512 |\n",
       "| House Wren             |  460 |\n",
       "\n"
      ],
      "text/plain": [
       "   Species                count\n",
       "1  Slate-colored Junco    2732 \n",
       "2  Tree Swallow           1537 \n",
       "3  Black-capped Chickadee 1327 \n",
       "4  American Goldfinch     1204 \n",
       "5  Field Sparrow          1164 \n",
       "6  Lincoln's Sparrow       790 \n",
       "7  Robin                   608 \n",
       "8  Catbird                 554 \n",
       "9  Song Sparrow            512 \n",
       "10 House Wren              460 "
      ]
     },
     "metadata": {},
     "output_type": "display_data"
    }
   ],
   "source": [
    "Corrected %>%\n",
    "  group_by(Species) %>%\n",
    "  summarize(count = n()) %>%\n",
    "  arrange(desc(count)) %>%\n",
    "  head(n = 10)"
   ]
  },
  {
   "cell_type": "code",
   "execution_count": 70,
   "metadata": {
    "vscode": {
     "languageId": "r"
    }
   },
   "outputs": [
    {
     "data": {
      "text/html": [
       "<table class=\"dataframe\">\n",
       "<caption>A tibble: 5 × 2</caption>\n",
       "<thead>\n",
       "\t<tr><th scope=col>Species</th><th scope=col>count</th></tr>\n",
       "\t<tr><th scope=col>&lt;chr&gt;</th><th scope=col>&lt;int&gt;</th></tr>\n",
       "</thead>\n",
       "<tbody>\n",
       "\t<tr><td>Slate-colored Junco   </td><td>2732</td></tr>\n",
       "\t<tr><td>Tree Swallow          </td><td>1537</td></tr>\n",
       "\t<tr><td>Black-capped Chickadee</td><td>1327</td></tr>\n",
       "\t<tr><td>American Goldfinch    </td><td>1204</td></tr>\n",
       "\t<tr><td>Field Sparrow         </td><td>1164</td></tr>\n",
       "</tbody>\n",
       "</table>\n"
      ],
      "text/latex": [
       "A tibble: 5 × 2\n",
       "\\begin{tabular}{ll}\n",
       " Species & count\\\\\n",
       " <chr> & <int>\\\\\n",
       "\\hline\n",
       "\t Slate-colored Junco    & 2732\\\\\n",
       "\t Tree Swallow           & 1537\\\\\n",
       "\t Black-capped Chickadee & 1327\\\\\n",
       "\t American Goldfinch     & 1204\\\\\n",
       "\t Field Sparrow          & 1164\\\\\n",
       "\\end{tabular}\n"
      ],
      "text/markdown": [
       "\n",
       "A tibble: 5 × 2\n",
       "\n",
       "| Species &lt;chr&gt; | count &lt;int&gt; |\n",
       "|---|---|\n",
       "| Slate-colored Junco    | 2732 |\n",
       "| Tree Swallow           | 1537 |\n",
       "| Black-capped Chickadee | 1327 |\n",
       "| American Goldfinch     | 1204 |\n",
       "| Field Sparrow          | 1164 |\n",
       "\n"
      ],
      "text/plain": [
       "  Species                count\n",
       "1 Slate-colored Junco    2732 \n",
       "2 Tree Swallow           1537 \n",
       "3 Black-capped Chickadee 1327 \n",
       "4 American Goldfinch     1204 \n",
       "5 Field Sparrow          1164 "
      ]
     },
     "metadata": {},
     "output_type": "display_data"
    }
   ],
   "source": [
    "Majors <-\n",
    "  Corrected %>%\n",
    "    group_by(Species) %>%\n",
    "    summarize(count = n()) %>%\n",
    "    arrange(desc(count)) %>%\n",
    "    filter(count >= 1000)\n",
    "Majors"
   ]
  },
  {
   "attachments": {},
   "cell_type": "markdown",
   "metadata": {},
   "source": [
    "---"
   ]
  },
  {
   "attachments": {},
   "cell_type": "markdown",
   "metadata": {},
   "source": [
    "Task 4"
   ]
  },
  {
   "attachments": {},
   "cell_type": "markdown",
   "metadata": {},
   "source": []
  },
  {
   "attachments": {},
   "cell_type": "markdown",
   "metadata": {},
   "source": [
    "---"
   ]
  }
 ],
 "metadata": {
  "kernelspec": {
   "display_name": "R",
   "language": "R",
   "name": "ir"
  },
  "language_info": {
   "codemirror_mode": "r",
   "file_extension": ".r",
   "mimetype": "text/x-r-source",
   "name": "R",
   "pygments_lexer": "r",
   "version": "4.3.0"
  },
  "orig_nbformat": 4
 },
 "nbformat": 4,
 "nbformat_minor": 2
}
